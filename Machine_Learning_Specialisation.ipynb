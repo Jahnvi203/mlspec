{
  "nbformat": 4,
  "nbformat_minor": 0,
  "metadata": {
    "colab": {
      "provenance": [],
      "authorship_tag": "ABX9TyPCDy2Yvp6o1mZHht3YTVxa",
      "include_colab_link": true
    },
    "kernelspec": {
      "name": "python3",
      "display_name": "Python 3"
    },
    "language_info": {
      "name": "python"
    }
  },
  "cells": [
    {
      "cell_type": "markdown",
      "metadata": {
        "id": "view-in-github",
        "colab_type": "text"
      },
      "source": [
        "<a href=\"https://colab.research.google.com/github/Jahnvi203/mlspec/blob/main/Machine_Learning_Specialisation.ipynb\" target=\"_parent\"><img src=\"https://colab.research.google.com/assets/colab-badge.svg\" alt=\"Open In Colab\"/></a>"
      ]
    },
    {
      "cell_type": "markdown",
      "source": [
        "# **Week 1**"
      ],
      "metadata": {
        "id": "YgNeiiN2MQ9p"
      }
    },
    {
      "cell_type": "markdown",
      "source": [
        "**Definition of Machine Learning:**\n",
        "- A field of study that gives computers the ability to learn without being explicitly programmed.\n",
        "- The more opportunities an algorithm is given to learn, the better the algorithm performs.\n",
        "- Types of Machine Learning Algorithms - Supervised, Unsupervised, Recommender Systems and Reinforcement Learning.\n",
        "- Supervised learning is used most in real-world applications and has seen rapid enhancements.\n",
        "\n",
        "**Supervised Learning:**\n",
        "- Refers to algorithms that learn input (x) to (y).\n",
        "- Algorithms are given examples of x-y pairs to learn how to predict the correct y for the given x.\n",
        "- Types of Supervised Learning:\n",
        "  - Regression: Predicting a number output from infinitely many possible number outputs.\n",
        "  - Classification: Predicting classes/categories which could be numeric or non-numeric from finitely many possible classes/categories.\n",
        "\n",
        "**Unsupervised Learning:**\n",
        "- In supervised learning, the outputs are labelled, whereas, in unsupervised learning, the outputs are not labelled.\n",
        "- In supervised learning, there are inputs and the outputs are labelled. In unsupervised learning, there are inputs and the outputs are unlabelled.\n",
        "- Unsupervised learning aims to find a pattern in the unlabelled data.\n",
        "- Tyles of Unsupervised Learning:\n",
        "  - Clustering: Groups similar unlabelled data together into clusters.\n",
        "  - Anomaly Detection: Finds unusual unlabelled data.\n",
        "  - Dimensionality Reduction: Takes a bigger dataset and compressing it into a smaller dataset while loosing as little information as possible.\n",
        "\n",
        "Jupyter Notebook is the default environment used by machine learning engineers.\n",
        "\n",
        "**Artificial General Intelligence (AGI):** When machines have the same intelligence as humans, the machines are said to have AGI."
      ],
      "metadata": {
        "id": "NYVbpJHuQ_WF"
      }
    },
    {
      "cell_type": "code",
      "source": [],
      "metadata": {
        "id": "IF4ZfP2ZMQgK"
      },
      "execution_count": null,
      "outputs": []
    },
    {
      "cell_type": "code",
      "execution_count": null,
      "metadata": {
        "id": "Wx85oqrSL39D"
      },
      "outputs": [],
      "source": []
    }
  ]
}